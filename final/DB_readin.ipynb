{
 "cells": [
  {
   "cell_type": "code",
   "execution_count": 1,
   "metadata": {
    "collapsed": true
   },
   "outputs": [],
   "source": [
    "import numpy as np"
   ]
  },
  {
   "cell_type": "code",
   "execution_count": 2,
   "metadata": {
    "collapsed": true
   },
   "outputs": [],
   "source": [
    "#rel = 'base_nom_0p8v/'+'lib1_ff0p88v125c_base_400'+'.tlib'\n",
    "case = '5'\n",
    "layer1 = '10v_case'+case\n",
    "layer2 = '9v_case'+case\n",
    "Savelayer = 'DB_'+layer1\n",
    "ax  = '/a_x/'\n",
    "ay  = '/a_y/'\n",
    "bx  = '/b_x/'\n",
    "by  = '/b_y/'\n",
    "cx  = '/c_x/'\n",
    "cy  = '/c_y/'\n",
    "dx  = '/d_x/'\n",
    "dy  = '/d_y/'\n",
    "ex  = '/e_x/'\n",
    "ey  = '/e_y/'\n",
    "fx  = '/f_x/'\n",
    "fy  = '/f_y/'\n",
    "a = 3186\n",
    "b = 3186\n",
    "c = 3181\n",
    "d = 3181\n",
    "e = 3163\n",
    "f = 3163\n"
   ]
  },
  {
   "cell_type": "code",
   "execution_count": 3,
   "metadata": {},
   "outputs": [],
   "source": [
    "for i in range(1, a+1):\n",
    "    x8v = np.load(layer1+ax+str(i)+'.npy')\n",
    "    x9v = np.load(layer2+ax+str(i)+'.npy')\n",
    "    x = np.append(x8v, x9v)\n",
    "    np.save(Savelayer+ax+str(i)+'.npy',x)\n",
    "    \n",
    "    y8v = np.load(layer1+ay+str(i)+'.npy')\n",
    "    y9v = np.load(layer2+ay+str(i)+'.npy')\n",
    "    y = np.zeros((1,49))\n",
    "    for j in range(0,49):\n",
    "        y[0,j] = float(y8v[j]) - float(y9v[j])\n",
    "    np.save(Savelayer+ay+str(i)+'.npy',y)"
   ]
  },
  {
   "cell_type": "code",
   "execution_count": 4,
   "metadata": {
    "collapsed": true
   },
   "outputs": [],
   "source": [
    "for i in range(1, b+1):\n",
    "    x8v = np.load(layer1+bx+str(i)+'.npy')\n",
    "    x9v = np.load(layer2+bx+str(i)+'.npy')\n",
    "    x = np.append(x8v, x9v)\n",
    "    np.save(Savelayer+bx+str(i)+'.npy',x)\n",
    "    \n",
    "    y8v = np.load(layer1+by+str(i)+'.npy')\n",
    "    y9v = np.load(layer2+by+str(i)+'.npy')\n",
    "    y = np.zeros((1,49))\n",
    "    for j in range(0,49):\n",
    "        y[0,j] = float(y8v[j]) - float(y9v[j])\n",
    "    np.save(Savelayer+by+str(i)+'.npy',y)"
   ]
  },
  {
   "cell_type": "code",
   "execution_count": 5,
   "metadata": {
    "collapsed": true
   },
   "outputs": [],
   "source": [
    "for i in range(1, c+1):\n",
    "    x8v = np.load(layer1+cx+str(i)+'.npy')\n",
    "    x9v = np.load(layer2+cx+str(i)+'.npy')\n",
    "    x = np.append(x8v, x9v)\n",
    "    np.save(Savelayer+cx+str(i)+'.npy',x)\n",
    "    \n",
    "    y8v = np.load(layer1+cy+str(i)+'.npy')\n",
    "    y9v = np.load(layer2+cy+str(i)+'.npy')\n",
    "    y = np.zeros((1,49))\n",
    "    for j in range(0,49):\n",
    "        y[0,j] = float(y8v[j]) - float(y9v[j])\n",
    "    np.save(Savelayer+cy+str(i)+'.npy',y)"
   ]
  },
  {
   "cell_type": "code",
   "execution_count": 6,
   "metadata": {
    "collapsed": true
   },
   "outputs": [],
   "source": [
    "for i in range(1, d+1):\n",
    "    x8v = np.load(layer1+dx+str(i)+'.npy')\n",
    "    x9v = np.load(layer2+dx+str(i)+'.npy')\n",
    "    x = np.append(x8v, x9v)\n",
    "    np.save(Savelayer+dx+str(i)+'.npy',x)\n",
    "    \n",
    "    y8v = np.load(layer1+dy+str(i)+'.npy')\n",
    "    y9v = np.load(layer2+dy+str(i)+'.npy')\n",
    "    y = np.zeros((1,49))\n",
    "    for j in range(0,49):\n",
    "        y[0,j] = float(y8v[j]) - float(y9v[j])\n",
    "    np.save(Savelayer+dy+str(i)+'.npy',y)"
   ]
  },
  {
   "cell_type": "code",
   "execution_count": 7,
   "metadata": {
    "collapsed": true
   },
   "outputs": [],
   "source": [
    "for i in range(1, e+1):\n",
    "    x8v = np.load(layer1+ex+str(i)+'.npy')\n",
    "    x9v = np.load(layer2+ex+str(i)+'.npy')\n",
    "    x = np.append(x8v, x9v)\n",
    "    np.save(Savelayer+ex+str(i)+'.npy',x)\n",
    "    \n",
    "    y8v = np.load(layer1+ey+str(i)+'.npy')\n",
    "    y9v = np.load(layer2+ey+str(i)+'.npy')\n",
    "    y = np.zeros((1,49))\n",
    "    #print(i)\n",
    "    #print(np.shape(y))\n",
    "    for j in range(0,49):\n",
    "        #print(y8v[j])\n",
    "        #print(y9v[j])\n",
    "        y[0,j] = float(y8v[j]) - float(y9v[j])\n",
    "    np.save(Savelayer+ey+str(i)+'.npy',y)"
   ]
  },
  {
   "cell_type": "code",
   "execution_count": 8,
   "metadata": {
    "collapsed": true
   },
   "outputs": [],
   "source": [
    "for i in range(1, f+1):\n",
    "    x8v = np.load(layer1+fx+str(i)+'.npy')\n",
    "    x9v = np.load(layer2+fx+str(i)+'.npy')\n",
    "    x = np.append(x8v, x9v)\n",
    "    np.save(Savelayer+fx+str(i)+'.npy',x)\n",
    "    \n",
    "    y8v = np.load(layer1+fy+str(i)+'.npy')\n",
    "    y9v = np.load(layer2+fy+str(i)+'.npy')\n",
    "    y = np.zeros((1,49))\n",
    "    for j in range(0,49):\n",
    "        y[0,j] = float(y8v[j]) - float(y9v[j])\n",
    "    np.save(Savelayer+fy+str(i)+'.npy',y)"
   ]
  },
  {
   "cell_type": "code",
   "execution_count": null,
   "metadata": {
    "collapsed": true
   },
   "outputs": [],
   "source": []
  }
 ],
 "metadata": {
  "kernelspec": {
   "display_name": "Python 3",
   "language": "python",
   "name": "python3"
  },
  "language_info": {
   "codemirror_mode": {
    "name": "ipython",
    "version": 3
   },
   "file_extension": ".py",
   "mimetype": "text/x-python",
   "name": "python",
   "nbconvert_exporter": "python",
   "pygments_lexer": "ipython3",
   "version": "3.6.1"
  }
 },
 "nbformat": 4,
 "nbformat_minor": 2
}
