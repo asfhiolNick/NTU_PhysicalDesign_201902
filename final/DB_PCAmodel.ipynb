{
 "cells": [
  {
   "cell_type": "code",
   "execution_count": 1,
   "metadata": {
    "collapsed": true
   },
   "outputs": [],
   "source": [
    "import numpy as np\n",
    "import math"
   ]
  },
  {
   "cell_type": "code",
   "execution_count": 2,
   "metadata": {
    "collapsed": true
   },
   "outputs": [],
   "source": [
    "def Num(input):\n",
    "    if   input=='a':\n",
    "        return 3186\n",
    "    elif input=='b':\n",
    "        return 3186\n",
    "    elif input=='c':\n",
    "        return 3181\n",
    "    elif input=='d':\n",
    "        return 3181\n",
    "    elif input=='e':\n",
    "        return 3163\n",
    "    elif input=='f':\n",
    "        return 3163"
   ]
  },
  {
   "cell_type": "code",
   "execution_count": 3,
   "metadata": {},
   "outputs": [
    {
     "name": "stdout",
     "output_type": "stream",
     "text": [
      "Case = 1, Char = a, answer = 90.5115999028065\n",
      "Case = 1, Char = b, answer = 94.40161683765844\n",
      "Case = 1, Char = c, answer = 86.32664663943716\n",
      "Case = 1, Char = d, answer = 94.3136274229382\n"
     ]
    },
    {
     "name": "stderr",
     "output_type": "stream",
     "text": [
      "/home/asfhiol/anaconda3/lib/python3.6/site-packages/ipykernel_launcher.py:54: RuntimeWarning: divide by zero encountered in double_scalars\n"
     ]
    },
    {
     "name": "stdout",
     "output_type": "stream",
     "text": [
      "Case = 1, Char = e, answer = 81.60231702068037\n",
      "Case = 1, Char = f, answer = 53.60633801750916\n",
      "In Case 1, answer = 78.32189471650257\n",
      "\n",
      "Case = 2, Char = a, answer = 89.04807573079523\n",
      "Case = 2, Char = b, answer = 92.00025597318843\n",
      "Case = 2, Char = c, answer = 81.36238047725934\n",
      "Case = 2, Char = d, answer = 93.34601931648866\n",
      "Case = 2, Char = e, answer = 82.09277842781012\n",
      "Case = 2, Char = f, answer = 51.30811156763487\n",
      "In Case 2, answer = 76.71392858891397\n",
      "\n",
      "Case = 3, Char = a, answer = 70.36576494552796\n",
      "Case = 3, Char = b, answer = 81.65287362105116\n",
      "Case = 3, Char = c, answer = 59.943567689595056\n",
      "Case = 3, Char = d, answer = 82.5432817403964\n",
      "Case = 3, Char = e, answer = 82.54771796539791\n",
      "Case = 3, Char = f, answer = 59.48880847339027\n",
      "In Case 3, answer = 70.99269779923027\n",
      "\n",
      "Case = 4, Char = a, answer = 53.627259730973485\n",
      "Case = 4, Char = b, answer = 66.50702545332751\n",
      "Case = 4, Char = c, answer = 41.335729443219705\n",
      "Case = 4, Char = d, answer = 69.68732111262105\n",
      "Case = 4, Char = e, answer = 82.10657744379668\n",
      "Case = 4, Char = f, answer = 57.97761869039006\n",
      "In Case 4, answer = 59.83809497050403\n",
      "\n",
      "Case = 5, Char = a, answer = 82.77843485552759\n",
      "Case = 5, Char = b, answer = 86.78039616525622\n",
      "Case = 5, Char = c, answer = 72.22852797705289\n",
      "Case = 5, Char = d, answer = 89.69201093869148\n",
      "Case = 5, Char = e, answer = 82.4001656209856\n",
      "Case = 5, Char = f, answer = 55.00331667791143\n",
      "In Case 5, answer = 75.27531064964089\n",
      "\n",
      "Totally, answer = 71.44166030567816\n"
     ]
    }
   ],
   "source": [
    "container = ['a', 'b', 'c', 'd', 'e', 'f']\n",
    "finalans = 0\n",
    "for itr in range(1, 6):\n",
    "    caseans = 0\n",
    "    for char in container:\n",
    "        oldlayer  = '8v_case'+str(itr)\n",
    "        layer1 = 'DB_'+oldlayer\n",
    "        whichx = '/'+char+'_x/'\n",
    "        whichy = '/'+char+'_y/'\n",
    "        percent = 0.85\n",
    "        CaseNum = 2*(3186-int(3186*percent))+2*(3181-int(3181*percent))+2*(3163-int(3163*percent))\n",
    "        totalNum = 3163\n",
    "        trainNum = int(totalNum*percent)\n",
    "        testNum  = totalNum - trainNum\n",
    "        \n",
    "        \n",
    "        #Step1: Compute X\n",
    "        X      = np.zeros( (totalNum, 28) )\n",
    "        for i in range(0, totalNum):\n",
    "            X[i] = np.load(layer1+whichx+str(i+1)+'.npy')\n",
    "\n",
    "        from sklearn.decomposition import PCA\n",
    "        pca=PCA(n_components=5)\n",
    "        X=pca.fit_transform(X)\n",
    "        XT = np.transpose(X)\n",
    "        XTsf = np.r_[[[1.0]*totalNum], XT]\n",
    "\n",
    "        trainXTsf = XTsf[:,0:trainNum]\n",
    "        testXTsf  = XTsf[:,trainNum:totalNum]\n",
    "        testXsf   = np.transpose(testXTsf)\n",
    "        \n",
    "        \n",
    "        #Step2: Compute Y\n",
    "        trainY = np.zeros( (trainNum, 49) )\n",
    "        testY  = np.zeros( (testNum, 49) )\n",
    "        for i in range(0, totalNum):\n",
    "            if i < trainNum:\n",
    "                trainY[i] = np.load(layer1+whichy+str(i+1)+'.npy')\n",
    "            else:\n",
    "                testY[i-trainNum] = np.load(layer1+whichy+str(i+1)+'.npy')\n",
    "                \n",
    "                \n",
    "        #Step3: Compute predict data\n",
    "        beta = np.linalg.inv(trainXTsf.dot(np.transpose(trainXTsf)))\n",
    "        beta = beta.dot(trainXTsf).dot(trainY)\n",
    "        predict = testXsf.dot(beta)\n",
    "        \n",
    "        \n",
    "        #Step4: Output result\n",
    "        ans = 0\n",
    "        for i in range(0, testNum):\n",
    "            y8v = np.load(oldlayer+whichy+str(i+1+trainNum)+'.npy')\n",
    "            for j in range(0, 49):\n",
    "                ans = ans + min( 1, abs(testY[i][j]-predict[i][j])/abs(float(y8v[j])) )**2\n",
    "\n",
    "        print('Case = '+str(itr)+', Char = '+char+', answer = '+str(100-100*math.sqrt(ans/(testNum*49))) )\n",
    "        caseans = caseans + ans\n",
    "    \n",
    "    print('In Case '+str(itr)+', answer = '+str(100-100*math.sqrt(caseans/(CaseNum*49)))+'\\n')\n",
    "    finalans = finalans + caseans\n",
    "    \n",
    "print('Totally, answer = '+str(100-100*math.sqrt(finalans/(CaseNum*49*5))))"
   ]
  },
  {
   "cell_type": "code",
   "execution_count": null,
   "metadata": {
    "collapsed": true
   },
   "outputs": [],
   "source": []
  }
 ],
 "metadata": {
  "kernelspec": {
   "display_name": "Python 3",
   "language": "python",
   "name": "python3"
  },
  "language_info": {
   "codemirror_mode": {
    "name": "ipython",
    "version": 3
   },
   "file_extension": ".py",
   "mimetype": "text/x-python",
   "name": "python",
   "nbconvert_exporter": "python",
   "pygments_lexer": "ipython3",
   "version": "3.6.1"
  }
 },
 "nbformat": 4,
 "nbformat_minor": 2
}
