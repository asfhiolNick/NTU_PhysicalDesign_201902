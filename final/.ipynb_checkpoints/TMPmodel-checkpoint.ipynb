{
 "cells": [
  {
   "cell_type": "code",
   "execution_count": 1,
   "metadata": {
    "collapsed": true
   },
   "outputs": [],
   "source": [
    "import numpy as np"
   ]
  },
  {
   "cell_type": "code",
   "execution_count": 2,
   "metadata": {
    "collapsed": true
   },
   "outputs": [],
   "source": [
    "rel = 'base_nom_0p8v/lib1_ff0p88v125c_base_400.tlib'\n",
    "layer1 = '8v_case1'\n",
    "trainNum = 3000\n",
    "testNum  = 186\n",
    "totalNum = trainNum+testNum"
   ]
  },
  {
   "cell_type": "code",
   "execution_count": 3,
   "metadata": {},
   "outputs": [],
   "source": [
    "X      = np.zeros( (totalNum, 14) )\n",
    "for i in range(0, totalNum):\n",
    "    X[i] = np.load(layer1+'/a_x/'+str(i+1)+'.npy')\n",
    "\n",
    "from sklearn.decomposition import PCA\n",
    "pca=PCA(n_components=np.linalg.matrix_rank(X))\n",
    "PCAX=pca.fit_transform(X)\n",
    "PCAXT = np.transpose(PCAX)\n",
    "PCAXTsf = np.r_[[[1.0]*totalNum], PCAXT] \n",
    "\n",
    "PCAtrainXTsf = PCAXTsf[:,0:trainNum]\n",
    "PCAtestXTsf  = PCAXTsf[:,trainNum:totalNum]\n",
    "PCAtestXsf   = np.transpose(PCAtestXTsf)\n",
    "\n",
    "#print(trainXTsf)\n",
    "#print(testXTsf)"
   ]
  },
  {
   "cell_type": "code",
   "execution_count": 4,
   "metadata": {
    "collapsed": true
   },
   "outputs": [],
   "source": [
    "trainY = np.zeros( (trainNum, 49) )\n",
    "testY  = np.zeros( (testNum, 49) )\n",
    "for i in range(0, totalNum):\n",
    "    if i < trainNum:\n",
    "        trainY[i] = np.load(layer1+'/a_y/'+str(i+1)+'.npy')\n",
    "    else:\n",
    "        testY[i-trainNum] = np.load(layer1+'/a_y/'+str(i+1)+'.npy')\n",
    "\n",
    "#print(trainY)\n",
    "#print(testY)\n",
    "#print(np.shape(testY))"
   ]
  },
  {
   "cell_type": "code",
   "execution_count": 5,
   "metadata": {
    "collapsed": true
   },
   "outputs": [],
   "source": [
    "beta = np.linalg.inv(PCAtrainXTsf.dot(np.transpose(PCAtrainXTsf)))\n",
    "beta = beta.dot(PCAtrainXTsf).dot(trainY)\n",
    "#print(beta)\n",
    "\n",
    "predict = PCAtestXsf.dot(beta)\n",
    "#print(predict)"
   ]
  },
  {
   "cell_type": "code",
   "execution_count": 6,
   "metadata": {},
   "outputs": [
    {
     "name": "stdout",
     "output_type": "stream",
     "text": [
      "63.73877152249672\n"
     ]
    }
   ],
   "source": [
    "ans = 0\n",
    "for i in range(0, testNum):\n",
    "    for j in range(0, 49):\n",
    "        ans = ans + min(1, abs(testY[i][j]-predict[i][j])/testY[i][j])**2\n",
    "\n",
    "import math\n",
    "ans = 100-100*math.sqrt(ans/(testNum*49))\n",
    "print(ans)"
   ]
  },
  {
   "cell_type": "code",
   "execution_count": null,
   "metadata": {
    "collapsed": true
   },
   "outputs": [],
   "source": []
  },
  {
   "cell_type": "code",
   "execution_count": null,
   "metadata": {
    "collapsed": true
   },
   "outputs": [],
   "source": []
  },
  {
   "cell_type": "code",
   "execution_count": null,
   "metadata": {
    "collapsed": true
   },
   "outputs": [],
   "source": []
  },
  {
   "cell_type": "code",
   "execution_count": 7,
   "metadata": {},
   "outputs": [
    {
     "name": "stdout",
     "output_type": "stream",
     "text": [
      "[[1, 2, 3, 4], [20, 30, 40, 50], [55, 44, 33, 22], [18, 36, 54, 72], [2, 3, 5, 7]]\n",
      "[[ -4.53193354e+01  -4.82964790e+00  -2.68963448e-01]\n",
      " [  2.26416184e+01  -8.18505143e+00  -4.52852447e-02]\n",
      " [  1.77630395e+01   3.90399075e+01   6.86730231e-03]\n",
      " [  4.64568360e+01  -2.05475571e+01   1.68568835e-02]\n",
      " [ -4.15421585e+01  -5.47765108e+00   2.90524507e-01]]\n"
     ]
    }
   ],
   "source": [
    "matrix = [[1,2,3, 4], [20, 30, 40, 50], [55,44,33, 22], [18, 36, 54, 72], [2, 3, 5, 7]]\n",
    "from sklearn.decomposition import PCA\n",
    "pca=PCA(n_components=3)\n",
    "newmatrix=pca.fit_transform(matrix)\n",
    "print(matrix)\n",
    "print(newmatrix)"
   ]
  }
 ],
 "metadata": {
  "kernelspec": {
   "display_name": "Python 3",
   "language": "python",
   "name": "python3"
  },
  "language_info": {
   "codemirror_mode": {
    "name": "ipython",
    "version": 3
   },
   "file_extension": ".py",
   "mimetype": "text/x-python",
   "name": "python",
   "nbconvert_exporter": "python",
   "pygments_lexer": "ipython3",
   "version": "3.6.1"
  }
 },
 "nbformat": 4,
 "nbformat_minor": 2
}
