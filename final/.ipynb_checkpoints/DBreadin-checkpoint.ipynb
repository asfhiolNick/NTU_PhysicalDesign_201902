{
 "cells": [
  {
   "cell_type": "code",
   "execution_count": 1,
   "metadata": {
    "collapsed": true
   },
   "outputs": [],
   "source": [
    "import numpy as np"
   ]
  },
  {
   "cell_type": "code",
   "execution_count": 2,
   "metadata": {
    "collapsed": true
   },
   "outputs": [],
   "source": [
    "rel = 'base_nom_0p8v/lib1_tt0p8v25c_base_400.tlib'\n",
    "layer1 = 'DB_8v_case1'"
   ]
  },
  {
   "cell_type": "code",
   "execution_count": 3,
   "metadata": {
    "collapsed": true
   },
   "outputs": [],
   "source": [
    "def shortcut(input):\n",
    "    input = input[input.find('\"')+1 : input.rfind('\"')-1]\n",
    "    input = input.split(', ')\n",
    "    return input"
   ]
  },
  {
   "cell_type": "code",
   "execution_count": 4,
   "metadata": {
    "collapsed": true
   },
   "outputs": [],
   "source": [
    "with open(rel, mode = \"r\") as file:\n",
    "    a = 1\n",
    "    b = 1\n",
    "    c = 1\n",
    "    d = 1\n",
    "    e = 1\n",
    "    f = 1\n",
    "    line = file.readline()\n",
    "    while line:\n",
    "        if line.find('cell_rise ') != -1:\n",
    "            x = []\n",
    "            for i in range(0, 2):\n",
    "                line = file.readline()\n",
    "                Xpart = shortcut(''.join(line))\n",
    "                x = x + Xpart\n",
    "            np.save(layer1+'/a_x/'+str(a)+'.npy', x)\n",
    "            line = file.readline()\n",
    "            \n",
    "            y = []\n",
    "            for i in range(0, 7):\n",
    "                line = file.readline()\n",
    "                Ypart = shortcut(''.join(line))\n",
    "                y = y + Ypart\n",
    "            np.save(layer1+'/a_y/'+str(a)+'.npy', y)\n",
    "            a=a+1\n",
    "        \n",
    "        if line.find('rise_transition') != -1:\n",
    "            x = []\n",
    "            for i in range(0, 2):\n",
    "                line = file.readline()\n",
    "                Xpart = shortcut(''.join(line))\n",
    "                x = x + Xpart\n",
    "            np.save(layer1+'/b_x/'+str(b)+'.npy', x)\n",
    "            line = file.readline()\n",
    "            \n",
    "            y = []\n",
    "            for i in range(0, 7):\n",
    "                line = file.readline()\n",
    "                Ypart = shortcut(''.join(line))\n",
    "                y= y + Ypart\n",
    "            np.save(layer1+'/b_y/'+str(b)+'.npy', y)\n",
    "            b=b+1\n",
    "        \n",
    "        if line.find('cell_fall') != -1:\n",
    "            x = []\n",
    "            for i in range(0, 2):\n",
    "                line = file.readline()\n",
    "                Xpart = shortcut(''.join(line))\n",
    "                x = x + Xpart\n",
    "            np.save(layer1+'/c_x/'+str(c)+'.npy', x)\n",
    "            line = file.readline()\n",
    "            \n",
    "            y = []\n",
    "            for i in range(0, 7):\n",
    "                line = file.readline()\n",
    "                Ypart = shortcut(''.join(line))\n",
    "                y = y + Ypart\n",
    "            np.save(layer1+'/c_y/'+str(c)+'.npy', y)\n",
    "            c=c+1\n",
    "        \n",
    "        if line.find('fall_transition') != -1:\n",
    "            x = []\n",
    "            for i in range(0, 2):\n",
    "                line = file.readline()\n",
    "                Xpart = shortcut(''.join(line))\n",
    "                x = x + Xpart\n",
    "            np.save(layer1+'/d_x/'+str(d)+'.npy', x)\n",
    "            line = file.readline()\n",
    "            \n",
    "            y = []\n",
    "            for i in range(0, 7):\n",
    "                line = file.readline()\n",
    "                Ypart = shortcut(''.join(line))\n",
    "                y = y + Ypart\n",
    "            np.save(layer1+'/d_y/'+str(d)+'.npy', y)\n",
    "            d=d+1\n",
    "        \n",
    "        if line.find('rise_power') != -1:\n",
    "            x = []\n",
    "            for i in range(0, 2):\n",
    "                line = file.readline()\n",
    "                Xpart = shortcut(''.join(line))\n",
    "                x = x + Xpart\n",
    "            np.save(layer1+'/e_x/'+str(e)+'.npy', x)\n",
    "            line = file.readline()\n",
    "            \n",
    "            y = []\n",
    "            for i in range(0, 7):\n",
    "                line = file.readline()\n",
    "                Ypart = shortcut(''.join(line))\n",
    "                y = y + Ypart\n",
    "            np.save(layer1+'/e_y/'+str(e)+'.npy', y)\n",
    "            e=e+1\n",
    "            \n",
    "        if line.find('fall_power') != -1:\n",
    "            x = []\n",
    "            for i in range(0, 2):\n",
    "                line = file.readline()\n",
    "                Xpart = shortcut(''.join(line))\n",
    "                x = x + Xpart\n",
    "            np.save(layer1+'/f_x/'+str(f)+'.npy', x)\n",
    "            line = file.readline()\n",
    "            \n",
    "            y = []\n",
    "            for i in range(0, 7):\n",
    "                line = file.readline()\n",
    "                Ypart = shortcut(''.join(line))\n",
    "                y = y + Ypart\n",
    "            np.save(layer1+'/f_y/'+str(f)+'.npy', y)\n",
    "            f=f+1\n",
    "            \n",
    "        line = file.readline()\n"
   ]
  },
  {
   "cell_type": "code",
   "execution_count": null,
   "metadata": {
    "collapsed": true
   },
   "outputs": [],
   "source": []
  },
  {
   "cell_type": "code",
   "execution_count": null,
   "metadata": {
    "collapsed": true
   },
   "outputs": [],
   "source": []
  },
  {
   "cell_type": "code",
   "execution_count": null,
   "metadata": {
    "collapsed": true
   },
   "outputs": [],
   "source": []
  }
 ],
 "metadata": {
  "kernelspec": {
   "display_name": "Python 3",
   "language": "python",
   "name": "python3"
  },
  "language_info": {
   "codemirror_mode": {
    "name": "ipython",
    "version": 3
   },
   "file_extension": ".py",
   "mimetype": "text/x-python",
   "name": "python",
   "nbconvert_exporter": "python",
   "pygments_lexer": "ipython3",
   "version": "3.6.1"
  }
 },
 "nbformat": 4,
 "nbformat_minor": 2
}
