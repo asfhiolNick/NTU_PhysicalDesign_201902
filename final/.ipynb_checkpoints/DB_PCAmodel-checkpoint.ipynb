{
 "cells": [
  {
   "cell_type": "code",
   "execution_count": 1,
   "metadata": {
    "collapsed": true
   },
   "outputs": [],
   "source": [
    "import numpy as np\n",
    "import math"
   ]
  },
  {
   "cell_type": "code",
   "execution_count": 2,
   "metadata": {
    "collapsed": true
   },
   "outputs": [],
   "source": [
    "def Num(input):\n",
    "    if   input=='a':\n",
    "        return 3186\n",
    "    elif input=='b':\n",
    "        return 3186\n",
    "    elif input=='c':\n",
    "        return 3181\n",
    "    elif input=='d':\n",
    "        return 3181\n",
    "    elif input=='e':\n",
    "        return 3163\n",
    "    elif input=='f':\n",
    "        return 3163"
   ]
  },
  {
   "cell_type": "code",
   "execution_count": 3,
   "metadata": {},
   "outputs": [
    {
     "name": "stdout",
     "output_type": "stream",
     "text": [
      "Case = 1, Char = a, answer = 91.0112663840433\n",
      "Case = 1, Char = b, answer = 95.10963562551136\n",
      "Case = 1, Char = c, answer = 86.9623836559296\n",
      "Case = 1, Char = d, answer = 94.96307513257958\n"
     ]
    },
    {
     "name": "stderr",
     "output_type": "stream",
     "text": [
      "/home/asfhiol/anaconda3/lib/python3.6/site-packages/ipykernel_launcher.py:54: RuntimeWarning: divide by zero encountered in double_scalars\n"
     ]
    },
    {
     "name": "stdout",
     "output_type": "stream",
     "text": [
      "Case = 1, Char = e, answer = 85.69745608696901\n",
      "Case = 1, Char = f, answer = 63.46264332693728\n",
      "In Case 1, answer = 82.52672985437908\n",
      "\n",
      "Case = 2, Char = a, answer = 89.26840434518836\n",
      "Case = 2, Char = b, answer = 92.78917689564503\n",
      "Case = 2, Char = c, answer = 82.45180965773513\n",
      "Case = 2, Char = d, answer = 93.98701613806607\n",
      "Case = 2, Char = e, answer = 85.98887359889272\n",
      "Case = 2, Char = f, answer = 60.851687123612244\n",
      "In Case 2, answer = 80.71802467991913\n",
      "\n",
      "Case = 3, Char = a, answer = 70.18979161608235\n",
      "Case = 3, Char = b, answer = 78.63848320002549\n",
      "Case = 3, Char = c, answer = 58.24820742931454\n",
      "Case = 3, Char = d, answer = 81.45975608399038\n",
      "Case = 3, Char = e, answer = 86.35232209370278\n",
      "Case = 3, Char = f, answer = 65.87365270587657\n",
      "In Case 3, answer = 71.82575393513079\n",
      "\n",
      "Case = 4, Char = a, answer = 49.65529270768175\n",
      "Case = 4, Char = b, answer = 57.50179990010519\n",
      "Case = 4, Char = c, answer = 36.696447412467634\n",
      "Case = 4, Char = d, answer = 64.28205386829994\n",
      "Case = 4, Char = e, answer = 86.12332894758524\n",
      "Case = 4, Char = f, answer = 64.099936371965\n",
      "In Case 4, answer = 57.06863617102346\n",
      "\n",
      "Case = 5, Char = a, answer = 83.36336606269137\n",
      "Case = 5, Char = b, answer = 88.08008090624128\n",
      "Case = 5, Char = c, answer = 73.60027950542246\n",
      "Case = 5, Char = d, answer = 90.53527325992135\n",
      "Case = 5, Char = e, answer = 86.27746206623733\n",
      "Case = 5, Char = f, answer = 61.277252690749286\n",
      "In Case 5, answer = 78.08722989061027\n",
      "\n",
      "Totally, answer = 72.45306050671773\n"
     ]
    }
   ],
   "source": [
    "container = ['a', 'b', 'c', 'd', 'e', 'f']\n",
    "finalans = 0\n",
    "for itr in range(1, 6):\n",
    "    caseans = 0\n",
    "    for char in container:\n",
    "        oldlayer  = '10v_case'+str(itr)\n",
    "        layer1 = 'DB_'+oldlayer\n",
    "        whichx = '/'+char+'_x/'\n",
    "        whichy = '/'+char+'_y/'\n",
    "        percent = 0.85\n",
    "        CaseNum = 2*(3186-int(3186*percent))+2*(3181-int(3181*percent))+2*(3163-int(3163*percent))\n",
    "        totalNum = 3163\n",
    "        trainNum = int(totalNum*percent)\n",
    "        testNum  = totalNum - trainNum\n",
    "        \n",
    "        \n",
    "        #Step1: Compute X\n",
    "        X      = np.zeros( (totalNum, 28) )\n",
    "        for i in range(0, totalNum):\n",
    "            X[i] = np.load(layer1+whichx+str(i+1)+'.npy')\n",
    "\n",
    "        from sklearn.decomposition import PCA\n",
    "        pca=PCA(n_components=4)\n",
    "        X=pca.fit_transform(X)\n",
    "        XT = np.transpose(X)\n",
    "        XTsf = np.r_[[[1.0]*totalNum], XT]\n",
    "\n",
    "        trainXTsf = XTsf[:,0:trainNum]\n",
    "        testXTsf  = XTsf[:,trainNum:totalNum]\n",
    "        testXsf   = np.transpose(testXTsf)\n",
    "        \n",
    "        \n",
    "        #Step2: Compute Y\n",
    "        trainY = np.zeros( (trainNum, 49) )\n",
    "        testY  = np.zeros( (testNum, 49) )\n",
    "        for i in range(0, totalNum):\n",
    "            if i < trainNum:\n",
    "                trainY[i] = np.load(layer1+whichy+str(i+1)+'.npy')\n",
    "            else:\n",
    "                testY[i-trainNum] = np.load(layer1+whichy+str(i+1)+'.npy')\n",
    "                \n",
    "                \n",
    "        #Step3: Compute predict data\n",
    "        beta = np.linalg.inv(trainXTsf.dot(np.transpose(trainXTsf)))\n",
    "        beta = beta.dot(trainXTsf).dot(trainY)\n",
    "        predict = testXsf.dot(beta)\n",
    "        \n",
    "        \n",
    "        #Step4: Output result\n",
    "        ans = 0\n",
    "        for i in range(0, testNum):\n",
    "            y8v = np.load(oldlayer+whichy+str(i+1+trainNum)+'.npy')\n",
    "            for j in range(0, 49):\n",
    "                ans = ans + min( 1, abs(testY[i][j]-predict[i][j])/float(y8v[j]) )**2\n",
    "\n",
    "        print('Case = '+str(itr)+', Char = '+char+', answer = '+str(100-100*math.sqrt(ans/(testNum*49))) )\n",
    "        caseans = caseans + ans\n",
    "    \n",
    "    print('In Case '+str(itr)+', answer = '+str(100-100*math.sqrt(caseans/(CaseNum*49)))+'\\n')\n",
    "    finalans = finalans + caseans\n",
    "    \n",
    "print('Totally, answer = '+str(100-100*math.sqrt(finalans/(CaseNum*49*5))))"
   ]
  },
  {
   "cell_type": "code",
   "execution_count": null,
   "metadata": {
    "collapsed": true
   },
   "outputs": [],
   "source": []
  }
 ],
 "metadata": {
  "kernelspec": {
   "display_name": "Python 3",
   "language": "python",
   "name": "python3"
  },
  "language_info": {
   "codemirror_mode": {
    "name": "ipython",
    "version": 3
   },
   "file_extension": ".py",
   "mimetype": "text/x-python",
   "name": "python",
   "nbconvert_exporter": "python",
   "pygments_lexer": "ipython3",
   "version": "3.6.1"
  }
 },
 "nbformat": 4,
 "nbformat_minor": 2
}
