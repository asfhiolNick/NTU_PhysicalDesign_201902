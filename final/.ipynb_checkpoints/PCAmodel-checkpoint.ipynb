{
 "cells": [
  {
   "cell_type": "code",
   "execution_count": 1,
   "metadata": {
    "collapsed": true
   },
   "outputs": [],
   "source": [
    "import numpy as np\n",
    "import math"
   ]
  },
  {
   "cell_type": "code",
   "execution_count": 2,
   "metadata": {
    "collapsed": true
   },
   "outputs": [],
   "source": [
    "def Num(input):\n",
    "    if   input=='a':\n",
    "        return 3186\n",
    "    elif input=='b':\n",
    "        return 3186\n",
    "    elif input=='c':\n",
    "        return 3181\n",
    "    elif input=='d':\n",
    "        return 3181\n",
    "    elif input=='e':\n",
    "        return 3163\n",
    "    elif input=='f':\n",
    "        return 3163"
   ]
  },
  {
   "cell_type": "code",
   "execution_count": 6,
   "metadata": {},
   "outputs": [
    {
     "name": "stdout",
     "output_type": "stream",
     "text": [
      "Case = 1, Char = a, answer = 59.04599180036732\n",
      "Case = 1, Char = b, answer = 56.77511935989512\n",
      "Case = 1, Char = c, answer = 42.18280587991793\n",
      "Case = 1, Char = d, answer = 61.58227640983725\n"
     ]
    },
    {
     "name": "stderr",
     "output_type": "stream",
     "text": [
      "/home/asfhiol/anaconda3/lib/python3.6/site-packages/ipykernel_launcher.py:52: RuntimeWarning: divide by zero encountered in double_scalars\n"
     ]
    },
    {
     "name": "stdout",
     "output_type": "stream",
     "text": [
      "Case = 1, Char = e, answer = 52.42259295098529\n",
      "Case = 1, Char = f, answer = 32.46574996051797\n",
      "In Case 1, answer = 49.704578932000686\n",
      "\n",
      "Case = 2, Char = a, answer = 60.12741538889431\n",
      "Case = 2, Char = b, answer = 56.193465813185625\n",
      "Case = 2, Char = c, answer = 42.18785954689711\n",
      "Case = 2, Char = d, answer = 61.77527566479393\n",
      "Case = 2, Char = e, answer = 50.01167270918427\n",
      "Case = 2, Char = f, answer = 29.573905643305494\n",
      "In Case 2, answer = 48.753814806672736\n",
      "\n",
      "Case = 3, Char = a, answer = 54.54447171626172\n",
      "Case = 3, Char = b, answer = 59.213347447842764\n",
      "Case = 3, Char = c, answer = 41.044848452949566\n",
      "Case = 3, Char = d, answer = 69.11253954427713\n",
      "Case = 3, Char = e, answer = 49.68833845507383\n",
      "Case = 3, Char = f, answer = 32.40144103141682\n",
      "In Case 3, answer = 49.588918787332716\n",
      "\n",
      "Case = 4, Char = a, answer = 53.347760318203356\n",
      "Case = 4, Char = b, answer = 59.09503900487593\n",
      "Case = 4, Char = c, answer = 39.90600863880173\n",
      "Case = 4, Char = d, answer = 69.14731144026969\n",
      "Case = 4, Char = e, answer = 48.91653893718876\n",
      "Case = 4, Char = f, answer = 30.886528361174385\n",
      "In Case 4, answer = 48.70724054546521\n",
      "\n",
      "Case = 5, Char = a, answer = 60.44854989789722\n",
      "Case = 5, Char = b, answer = 58.649700058396434\n",
      "Case = 5, Char = c, answer = 45.44803243899381\n",
      "Case = 5, Char = d, answer = 66.38455499426799\n",
      "Case = 5, Char = e, answer = 49.23564489241682\n",
      "Case = 5, Char = f, answer = 30.156498002360323\n",
      "In Case 5, answer = 50.30186492647759\n",
      "\n",
      "Totally, answer = 49.40764921739033\n"
     ]
    }
   ],
   "source": [
    "container = ['a', 'b', 'c', 'd', 'e', 'f']\n",
    "finalans = 0\n",
    "for itr in range(1, 6):\n",
    "    caseans = 0\n",
    "    for char in container:\n",
    "        layer1 = '10v_case'+str(itr)\n",
    "        whichx = '/'+char+'_x/'\n",
    "        whichy = '/'+char+'_y/'\n",
    "        percent = 0.85\n",
    "        CaseNum = 2*(3186-int(3186*percent))+2*(3181-int(3181*percent))+2*(3163-int(3163*percent))\n",
    "        totalNum = Num(char)\n",
    "        trainNum = int(totalNum*percent)\n",
    "        testNum  = totalNum - trainNum\n",
    "        \n",
    "\n",
    "        #Step1: Compute X\n",
    "        X  = np.zeros( (totalNum, 14) )\n",
    "        for i in range(0, totalNum):\n",
    "            X[i] = np.load(layer1+whichx+str(i+1)+'.npy')\n",
    "\n",
    "        from sklearn.decomposition import PCA\n",
    "        pca=PCA(n_components=4)\n",
    "        X=pca.fit_transform(X)\n",
    "        XT = np.transpose(X)\n",
    "        XTsf = np.r_[[[1.0]*totalNum], XT] \n",
    "\n",
    "        trainXTsf = XTsf[:,0:trainNum]\n",
    "        testXTsf  = XTsf[:,trainNum:totalNum]\n",
    "        testXsf   = np.transpose(testXTsf)\n",
    "        \n",
    "        \n",
    "        #Step2: Compute Y\n",
    "        trainY = np.zeros( (trainNum, 49) )\n",
    "        testY  = np.zeros( (testNum, 49) )\n",
    "        for i in range(0, totalNum):\n",
    "            if i < trainNum:\n",
    "                trainY[i] = np.load(layer1+whichy+str(i+1)+'.npy')\n",
    "            else:\n",
    "                testY[i-trainNum] = np.load(layer1+whichy+str(i+1)+'.npy')\n",
    "        \n",
    "        \n",
    "        #Step3: Compute predict data\n",
    "        beta = np.linalg.inv(trainXTsf.dot(np.transpose(trainXTsf)))\n",
    "        beta = beta.dot(trainXTsf).dot(trainY)\n",
    "        predict = testXsf.dot(beta)\n",
    "\n",
    "        \n",
    "        #Step4: Output result\n",
    "        ans = 0\n",
    "        for i in range(0, testNum):\n",
    "            for j in range(0, 49):\n",
    "                ans = ans + min(1, abs(testY[i][j]-predict[i][j])/testY[i][j])**2\n",
    "        \n",
    "        print('Case = '+str(itr)+', Char = '+char+', answer = '+str(100-100*math.sqrt(ans/(testNum*49))) )\n",
    "        caseans = caseans + ans\n",
    "    \n",
    "    print('In Case '+str(itr)+', answer = '+str(100-100*math.sqrt(caseans/(CaseNum*49)))+'\\n')\n",
    "    finalans = finalans + caseans\n",
    "print('Totally, answer = '+str(100-100*math.sqrt(finalans/(CaseNum*49*5))))"
   ]
  },
  {
   "cell_type": "code",
   "execution_count": null,
   "metadata": {
    "collapsed": true
   },
   "outputs": [],
   "source": []
  }
 ],
 "metadata": {
  "kernelspec": {
   "display_name": "Python 3",
   "language": "python",
   "name": "python3"
  },
  "language_info": {
   "codemirror_mode": {
    "name": "ipython",
    "version": 3
   },
   "file_extension": ".py",
   "mimetype": "text/x-python",
   "name": "python",
   "nbconvert_exporter": "python",
   "pygments_lexer": "ipython3",
   "version": "3.6.1"
  }
 },
 "nbformat": 4,
 "nbformat_minor": 2
}
