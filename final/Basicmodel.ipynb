{
 "cells": [
  {
   "cell_type": "code",
   "execution_count": 1,
   "metadata": {
    "collapsed": true
   },
   "outputs": [],
   "source": [
    "import numpy as np\n",
    "import math"
   ]
  },
  {
   "cell_type": "code",
   "execution_count": 2,
   "metadata": {
    "collapsed": true
   },
   "outputs": [],
   "source": [
    "def Num(input):\n",
    "    if   input=='a':\n",
    "        return 3186\n",
    "    elif input=='b':\n",
    "        return 3186\n",
    "    elif input=='c':\n",
    "        return 3181\n",
    "    elif input=='d':\n",
    "        return 3181\n",
    "    elif input=='e':\n",
    "        return 3163\n",
    "    elif input=='f':\n",
    "        return 3163"
   ]
  },
  {
   "cell_type": "code",
   "execution_count": 3,
   "metadata": {},
   "outputs": [
    {
     "name": "stdout",
     "output_type": "stream",
     "text": [
      "Case = 1, Char = a, answer = 57.96765766175557\n",
      "Case = 1, Char = b, answer = 59.375852451540666\n",
      "Case = 1, Char = c, answer = 43.51986175646494\n",
      "Case = 1, Char = d, answer = 64.21288882765697\n"
     ]
    },
    {
     "name": "stderr",
     "output_type": "stream",
     "text": [
      "/home/asfhiol/anaconda3/lib/python3.6/site-packages/ipykernel_launcher.py:49: RuntimeWarning: divide by zero encountered in double_scalars\n"
     ]
    },
    {
     "name": "stdout",
     "output_type": "stream",
     "text": [
      "Case = 1, Char = e, answer = 51.142879527074186\n",
      "Case = 1, Char = f, answer = 30.465423748331446\n",
      "In Case 1, answer = 49.84010072006222\n",
      "\n",
      "Case = 2, Char = a, answer = 59.68925082190989\n",
      "Case = 2, Char = b, answer = 58.87973446593488\n",
      "Case = 2, Char = c, answer = 43.066527239181596\n",
      "Case = 2, Char = d, answer = 65.02148190940837\n",
      "Case = 2, Char = e, answer = 49.099294558034856\n",
      "Case = 2, Char = f, answer = 28.659930861700047\n",
      "In Case 2, answer = 49.263513381252565\n",
      "\n",
      "Case = 3, Char = a, answer = 47.96369214844067\n",
      "Case = 3, Char = b, answer = 60.35518370890329\n",
      "Case = 3, Char = c, answer = 36.695783582277045\n",
      "Case = 3, Char = d, answer = 66.31548692210302\n",
      "Case = 3, Char = e, answer = 49.80959460099115\n",
      "Case = 3, Char = f, answer = 33.02357797502626\n",
      "In Case 3, answer = 47.691845913460625\n",
      "\n",
      "Case = 4, Char = a, answer = 42.71370252099286\n",
      "Case = 4, Char = b, answer = 56.38370826002024\n",
      "Case = 4, Char = c, answer = 31.90093008629205\n",
      "Case = 4, Char = d, answer = 61.356215794512266\n",
      "Case = 4, Char = e, answer = 48.07164311975188\n",
      "Case = 4, Char = f, answer = 30.589635832983745\n",
      "In Case 4, answer = 43.991825945726184\n",
      "\n",
      "Case = 5, Char = a, answer = 56.93732735456866\n",
      "Case = 5, Char = b, answer = 60.58496842632007\n",
      "Case = 5, Char = c, answer = 41.39879409302637\n",
      "Case = 5, Char = d, answer = 69.85155521848122\n",
      "Case = 5, Char = e, answer = 49.48590195792024\n",
      "Case = 5, Char = f, answer = 30.510538923744818\n",
      "In Case 5, answer = 49.80582381819494\n",
      "\n",
      "Totally, answer = 48.071740954287904\n"
     ]
    }
   ],
   "source": [
    "container = ['a', 'b', 'c', 'd', 'e', 'f']\n",
    "finalans = 0\n",
    "for itr in range(1, 6):\n",
    "    caseans = 0\n",
    "    for char in container:\n",
    "        layer1 = '8v_case'+str(itr)\n",
    "        whichx = '/'+char+'_x/'\n",
    "        whichy = '/'+char+'_y/'\n",
    "        percent = 0.85\n",
    "        CaseNum = 2*(3186-int(3186*percent))+2*(3181-int(3181*percent))+2*(3163-int(3163*percent)) \n",
    "        totalNum = Num(char)\n",
    "        trainNum = int(totalNum*percent)\n",
    "        testNum  = totalNum - trainNum\n",
    "        \n",
    "        \n",
    "        #Step1: Compute X      \n",
    "        X      = np.zeros( (totalNum, 14) )\n",
    "        for i in range(0, totalNum):\n",
    "            X[i] = np.load(layer1+whichx+str(i+1)+'.npy')\n",
    " \n",
    "        XT = np.transpose(X)[-1*3:]\n",
    "        XTsf = np.r_[[[1.0]*totalNum], XT]\n",
    "\n",
    "        trainXTsf = XTsf[:,0:trainNum]\n",
    "        testXTsf  = XTsf[:,trainNum:totalNum]\n",
    "        testXsf   = np.transpose(testXTsf)  \n",
    "        \n",
    "        \n",
    "        #Step2: Compute Y\n",
    "        trainY = np.zeros( (trainNum, 49) )\n",
    "        testY  = np.zeros( (testNum, 49) )\n",
    "        for i in range(0, totalNum):\n",
    "            if i < trainNum:\n",
    "                trainY[i] = np.load(layer1+whichy+str(i+1)+'.npy')\n",
    "            else:\n",
    "                testY[i-trainNum] = np.load(layer1+whichy+str(i+1)+'.npy')\n",
    "                \n",
    "        \n",
    "        #Step3: Compute predict data\n",
    "        beta = np.linalg.inv(trainXTsf.dot(np.transpose(trainXTsf)))\n",
    "        beta = beta.dot(trainXTsf).dot(trainY)\n",
    "        predict = testXsf.dot(beta)\n",
    "        \n",
    "        \n",
    "        #Step4: Output result\n",
    "        ans = 0\n",
    "        for i in range(0, testNum):\n",
    "            for j in range(0, 49):\n",
    "                ans = ans + min( 1, abs(testY[i][j]-predict[i][j])/abs(testY[i][j]) )**2\n",
    "                \n",
    "        print('Case = '+str(itr)+', Char = '+char+', answer = '+str(100-100*math.sqrt(ans/(testNum*49))) )\n",
    "        caseans = caseans + ans\n",
    "    \n",
    "    print('In Case '+str(itr)+', answer = '+str(100-100*math.sqrt(caseans/(CaseNum*49)))+'\\n')\n",
    "    finalans = finalans + caseans\n",
    "print('Totally, answer = '+str(100-100*math.sqrt(finalans/(CaseNum*49*5))))"
   ]
  },
  {
   "cell_type": "code",
   "execution_count": null,
   "metadata": {
    "collapsed": true
   },
   "outputs": [],
   "source": []
  }
 ],
 "metadata": {
  "kernelspec": {
   "display_name": "Python 3",
   "language": "python",
   "name": "python3"
  },
  "language_info": {
   "codemirror_mode": {
    "name": "ipython",
    "version": 3
   },
   "file_extension": ".py",
   "mimetype": "text/x-python",
   "name": "python",
   "nbconvert_exporter": "python",
   "pygments_lexer": "ipython3",
   "version": "3.6.1"
  }
 },
 "nbformat": 4,
 "nbformat_minor": 2
}
