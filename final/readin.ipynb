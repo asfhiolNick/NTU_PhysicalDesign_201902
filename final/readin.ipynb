{
 "cells": [
  {
   "cell_type": "code",
   "execution_count": 1,
   "metadata": {
    "collapsed": true
   },
   "outputs": [],
   "source": [
    "import numpy as np"
   ]
  },
  {
   "cell_type": "code",
   "execution_count": 2,
   "metadata": {
    "collapsed": true
   },
   "outputs": [],
   "source": [
    "case1v8 = 'lib1_ff0p88v125c_base_400'\n",
    "case2v8 = 'lib1_ff0p88vm40c_base_400'\n",
    "case3v8 = 'lib1_ss0p72v125c_base_400'\n",
    "case4v8 = 'lib1_ss0p72vm40c_base_400'\n",
    "case5v8 = 'lib1_tt0p8v25c_base_400'\n",
    "\n",
    "case1v9 = 'lib1_ff0p99v125c_base_400'\n",
    "case2v9 = 'lib1_ff0p99vm40c_base_400'\n",
    "case3v9 = 'lib1_ss0p81v125c_base_400'\n",
    "case4v9 = 'lib1_ss0p81vm40c_base_400'\n",
    "case5v9 = 'lib1_tt0p9v25c_base_400'\n",
    "\n",
    "case1v10 = 'lib1_ff1p1v125c_base_400'\n",
    "case2v10 = 'lib1_ff1p1vm40c_base_400'\n",
    "case3v10 = 'lib1_ss0p9v125c_base_400'\n",
    "case4v10 = 'lib1_ss0p9vm40c_base_400'\n",
    "case5v10 = 'lib1_tt1p0v25c_base_400'\n",
    "\n",
    "rel = 'base_nom_1p0v/'+case5v10+'.tlib'\n",
    "layer1 = '10v_case5'"
   ]
  },
  {
   "cell_type": "code",
   "execution_count": 3,
   "metadata": {
    "collapsed": true
   },
   "outputs": [],
   "source": [
    "def shortcut(input):\n",
    "    input = input[input.find('\"')+1 : input.rfind('\"')]\n",
    "    input = input.split(', ')\n",
    "    return input"
   ]
  },
  {
   "cell_type": "code",
   "execution_count": 4,
   "metadata": {},
   "outputs": [],
   "source": [
    "with open(rel, mode = \"r\") as file:\n",
    "    a = 1\n",
    "    b = 1\n",
    "    c = 1\n",
    "    d = 1\n",
    "    e = 1\n",
    "    f = 1\n",
    "    line = file.readline()\n",
    "    while line:\n",
    "        if line.find('cell_rise ') != -1:\n",
    "            x = []\n",
    "            for i in range(0, 2):\n",
    "                line = file.readline()\n",
    "                Xpart = shortcut(''.join(line))\n",
    "                x = x + Xpart\n",
    "            np.save(layer1+'/a_x/'+str(a)+'.npy', x)\n",
    "            line = file.readline()\n",
    "            \n",
    "            y = []\n",
    "            for i in range(0, 7):\n",
    "                line = file.readline()\n",
    "                Ypart = shortcut(''.join(line))\n",
    "                y = y + Ypart\n",
    "            np.save(layer1+'/a_y/'+str(a)+'.npy', y)\n",
    "            a=a+1\n",
    "        \n",
    "        if line.find('rise_transition') != -1:\n",
    "            x = []\n",
    "            for i in range(0, 2):\n",
    "                line = file.readline()\n",
    "                Xpart = shortcut(''.join(line))\n",
    "                x = x + Xpart\n",
    "            np.save(layer1+'/b_x/'+str(b)+'.npy', x)\n",
    "            line = file.readline()\n",
    "            \n",
    "            y = []\n",
    "            for i in range(0, 7):\n",
    "                line = file.readline()\n",
    "                Ypart = shortcut(''.join(line))\n",
    "                y= y + Ypart\n",
    "            np.save(layer1+'/b_y/'+str(b)+'.npy', y)\n",
    "            b=b+1\n",
    "        \n",
    "        if line.find('cell_fall') != -1:\n",
    "            x = []\n",
    "            for i in range(0, 2):\n",
    "                line = file.readline()\n",
    "                Xpart = shortcut(''.join(line))\n",
    "                x = x + Xpart\n",
    "            np.save(layer1+'/c_x/'+str(c)+'.npy', x)\n",
    "            line = file.readline()\n",
    "            \n",
    "            y = []\n",
    "            for i in range(0, 7):\n",
    "                line = file.readline()\n",
    "                Ypart = shortcut(''.join(line))\n",
    "                y = y + Ypart\n",
    "            np.save(layer1+'/c_y/'+str(c)+'.npy', y)\n",
    "            c=c+1\n",
    "        \n",
    "        if line.find('fall_transition') != -1:\n",
    "            x = []\n",
    "            for i in range(0, 2):\n",
    "                line = file.readline()\n",
    "                Xpart = shortcut(''.join(line))\n",
    "                x = x + Xpart\n",
    "            np.save(layer1+'/d_x/'+str(d)+'.npy', x)\n",
    "            line = file.readline()\n",
    "            \n",
    "            y = []\n",
    "            for i in range(0, 7):\n",
    "                line = file.readline()\n",
    "                Ypart = shortcut(''.join(line))\n",
    "                y = y + Ypart\n",
    "            np.save(layer1+'/d_y/'+str(d)+'.npy', y)\n",
    "            d=d+1\n",
    "        \n",
    "        if line.find('rise_power') != -1:\n",
    "            x = []\n",
    "            for i in range(0, 2):\n",
    "                line = file.readline()\n",
    "                Xpart = shortcut(''.join(line))\n",
    "                x = x + Xpart\n",
    "            np.save(layer1+'/e_x/'+str(e)+'.npy', x)\n",
    "            line = file.readline()\n",
    "            \n",
    "            y = []\n",
    "            for i in range(0, 7):\n",
    "                line = file.readline()\n",
    "                Ypart = shortcut(''.join(line))\n",
    "                y = y + Ypart\n",
    "            np.save(layer1+'/e_y/'+str(e)+'.npy', y)\n",
    "            e=e+1\n",
    "            \n",
    "        if line.find('fall_power') != -1:\n",
    "            x = []\n",
    "            for i in range(0, 2):\n",
    "                line = file.readline()\n",
    "                Xpart = shortcut(''.join(line))\n",
    "                x = x + Xpart\n",
    "            np.save(layer1+'/f_x/'+str(f)+'.npy', x)\n",
    "            line = file.readline()\n",
    "            \n",
    "            y = []\n",
    "            for i in range(0, 7):\n",
    "                line = file.readline()\n",
    "                Ypart = shortcut(''.join(line))\n",
    "                y = y + Ypart\n",
    "            np.save(layer1+'/f_y/'+str(f)+'.npy', y)\n",
    "            f=f+1\n",
    "            \n",
    "        line = file.readline()\n"
   ]
  },
  {
   "cell_type": "code",
   "execution_count": null,
   "metadata": {
    "collapsed": true
   },
   "outputs": [],
   "source": []
  },
  {
   "cell_type": "code",
   "execution_count": null,
   "metadata": {},
   "outputs": [],
   "source": []
  },
  {
   "cell_type": "code",
   "execution_count": null,
   "metadata": {
    "collapsed": true
   },
   "outputs": [],
   "source": []
  }
 ],
 "metadata": {
  "kernelspec": {
   "display_name": "Python 3",
   "language": "python",
   "name": "python3"
  },
  "language_info": {
   "codemirror_mode": {
    "name": "ipython",
    "version": 3
   },
   "file_extension": ".py",
   "mimetype": "text/x-python",
   "name": "python",
   "nbconvert_exporter": "python",
   "pygments_lexer": "ipython3",
   "version": "3.6.1"
  }
 },
 "nbformat": 4,
 "nbformat_minor": 2
}
