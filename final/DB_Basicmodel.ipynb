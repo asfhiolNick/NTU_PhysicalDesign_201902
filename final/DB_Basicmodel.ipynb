{
 "cells": [
  {
   "cell_type": "code",
   "execution_count": 1,
   "metadata": {
    "collapsed": true
   },
   "outputs": [],
   "source": [
    "import numpy as np\n",
    "import math"
   ]
  },
  {
   "cell_type": "code",
   "execution_count": 2,
   "metadata": {
    "collapsed": true
   },
   "outputs": [],
   "source": [
    "def Num(input):\n",
    "    if   input=='a':\n",
    "        return 3186\n",
    "    elif input=='b':\n",
    "        return 3186\n",
    "    elif input=='c':\n",
    "        return 3181\n",
    "    elif input=='d':\n",
    "        return 3181\n",
    "    elif input=='e':\n",
    "        return 3163\n",
    "    elif input=='f':\n",
    "        return 3163"
   ]
  },
  {
   "cell_type": "code",
   "execution_count": 3,
   "metadata": {},
   "outputs": [
    {
     "name": "stdout",
     "output_type": "stream",
     "text": [
      "Case = 1, Char = a, answer = 90.36131378931437\n",
      "Case = 1, Char = b, answer = 94.38860852787342\n",
      "Case = 1, Char = c, answer = 86.16409279991083\n",
      "Case = 1, Char = d, answer = 94.30501972891585\n"
     ]
    },
    {
     "name": "stderr",
     "output_type": "stream",
     "text": [
      "/home/asfhiol/anaconda3/lib/python3.6/site-packages/ipykernel_launcher.py:51: RuntimeWarning: divide by zero encountered in double_scalars\n"
     ]
    },
    {
     "name": "stdout",
     "output_type": "stream",
     "text": [
      "Case = 1, Char = e, answer = 81.55030701692405\n",
      "Case = 1, Char = f, answer = 53.59673389342087\n",
      "In Case 1, answer = 78.2821286342507\n",
      "\n",
      "Case = 2, Char = a, answer = 88.879900314175\n",
      "Case = 2, Char = b, answer = 91.99705185790627\n",
      "Case = 2, Char = c, answer = 81.1704258199078\n",
      "Case = 2, Char = d, answer = 93.34035471438831\n",
      "Case = 2, Char = e, answer = 82.11919609220948\n",
      "Case = 2, Char = f, answer = 51.396644278405034\n",
      "In Case 2, answer = 76.70868553026064\n",
      "\n",
      "Case = 3, Char = a, answer = 70.01174558700954\n",
      "Case = 3, Char = b, answer = 81.67495255349979\n",
      "Case = 3, Char = c, answer = 59.61645360914159\n",
      "Case = 3, Char = d, answer = 82.50799982914013\n",
      "Case = 3, Char = e, answer = 82.61913544054465\n",
      "Case = 3, Char = f, answer = 59.53076198615776\n",
      "In Case 3, answer = 70.87290954800199\n",
      "\n",
      "Case = 4, Char = a, answer = 53.354228685449485\n",
      "Case = 4, Char = b, answer = 66.51651183120715\n",
      "Case = 4, Char = c, answer = 41.35902906406045\n",
      "Case = 4, Char = d, answer = 69.52164455574209\n",
      "Case = 4, Char = e, answer = 82.13217990003713\n",
      "Case = 4, Char = f, answer = 58.0413909001564\n",
      "In Case 4, answer = 59.784761953820464\n",
      "\n",
      "Case = 5, Char = a, answer = 82.5429079298433\n",
      "Case = 5, Char = b, answer = 86.8020775925971\n",
      "Case = 5, Char = c, answer = 71.98377021843402\n",
      "Case = 5, Char = d, answer = 89.68435701190982\n",
      "Case = 5, Char = e, answer = 82.46700059340884\n",
      "Case = 5, Char = f, answer = 55.11318911161301\n",
      "In Case 5, answer = 75.24450711507625\n",
      "\n",
      "Totally, answer = 71.39007702326762\n"
     ]
    }
   ],
   "source": [
    "container = ['a', 'b', 'c', 'd', 'e', 'f']\n",
    "finalans = 0\n",
    "for itr in range(1, 6):\n",
    "    caseans = 0\n",
    "    for char in container:\n",
    "        oldlayer  = '8v_case'+str(itr)\n",
    "        layer1 = 'DB_'+oldlayer\n",
    "        whichx = '/'+char+'_x/'\n",
    "        whichy = '/'+char+'_y/'\n",
    "        percent = 0.85\n",
    "        CaseNum = 2*(3186-int(3186*percent))+2*(3181-int(3181*percent))+2*(3163-int(3163*percent))\n",
    "        totalNum = 3163\n",
    "        trainNum = int(totalNum*percent)\n",
    "        testNum  = totalNum - trainNum\n",
    "        \n",
    "        \n",
    "        #Step1: Compute X\n",
    "        X      = np.zeros( (totalNum, 28) )\n",
    "        for i in range(0, totalNum):\n",
    "            X[i] = np.load(layer1+whichx+str(i+1)+'.npy')\n",
    "\n",
    "        XT = np.transpose(X)[-1*3:]\n",
    "        XTsf = np.r_[[[1.0]*totalNum], XT]\n",
    "\n",
    "        trainXTsf = XTsf[:,0:trainNum]\n",
    "        testXTsf  = XTsf[:,trainNum:totalNum]\n",
    "        testXsf   = np.transpose(testXTsf)\n",
    "        \n",
    "        \n",
    "        #Step2: Compute Y\n",
    "        trainY = np.zeros( (trainNum, 49) )\n",
    "        testY  = np.zeros( (testNum, 49) )\n",
    "        for i in range(0, totalNum):\n",
    "            if i < trainNum:\n",
    "                trainY[i] = np.load(layer1+whichy+str(i+1)+'.npy')\n",
    "            else:\n",
    "                testY[i-trainNum] = np.load(layer1+whichy+str(i+1)+'.npy')\n",
    "                \n",
    "                \n",
    "        #Step3: Compute predict data\n",
    "        beta = np.linalg.inv(trainXTsf.dot(np.transpose(trainXTsf)))\n",
    "        beta = beta.dot(trainXTsf).dot(trainY)\n",
    "        predict = testXsf.dot(beta)\n",
    "        \n",
    "        \n",
    "        #Step4: Output result\n",
    "        ans = 0\n",
    "        for i in range(0, testNum):\n",
    "            y8v = np.load(oldlayer+whichy+str(i+1+trainNum)+'.npy')\n",
    "            for j in range(0, 49):\n",
    "                ans = ans + min( 1, abs(testY[i][j]-predict[i][j])/abs(float(y8v[j])) )**2\n",
    "\n",
    "        print('Case = '+str(itr)+', Char = '+char+', answer = '+str(100-100*math.sqrt(ans/(testNum*49))) )\n",
    "        caseans = caseans + ans\n",
    "    \n",
    "    print('In Case '+str(itr)+', answer = '+str(100-100*math.sqrt(caseans/(CaseNum*49)))+'\\n')\n",
    "    finalans = finalans + caseans\n",
    "    \n",
    "print('Totally, answer = '+str(100-100*math.sqrt(finalans/(CaseNum*49*5))))"
   ]
  },
  {
   "cell_type": "code",
   "execution_count": null,
   "metadata": {
    "collapsed": true
   },
   "outputs": [],
   "source": []
  }
 ],
 "metadata": {
  "kernelspec": {
   "display_name": "Python 3",
   "language": "python",
   "name": "python3"
  },
  "language_info": {
   "codemirror_mode": {
    "name": "ipython",
    "version": 3
   },
   "file_extension": ".py",
   "mimetype": "text/x-python",
   "name": "python",
   "nbconvert_exporter": "python",
   "pygments_lexer": "ipython3",
   "version": "3.6.1"
  }
 },
 "nbformat": 4,
 "nbformat_minor": 2
}
